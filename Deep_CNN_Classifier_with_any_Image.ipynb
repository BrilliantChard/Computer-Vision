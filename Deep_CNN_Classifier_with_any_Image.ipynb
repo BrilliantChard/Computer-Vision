{
  "nbformat": 4,
  "nbformat_minor": 0,
  "metadata": {
    "colab": {
      "provenance": [],
      "authorship_tag": "ABX9TyPPS51s9f0x098cjvYQJ4Al",
      "include_colab_link": true
    },
    "kernelspec": {
      "name": "python3",
      "display_name": "Python 3"
    },
    "language_info": {
      "name": "python"
    }
  },
  "cells": [
    {
      "cell_type": "markdown",
      "metadata": {
        "id": "view-in-github",
        "colab_type": "text"
      },
      "source": [
        "<a href=\"https://colab.research.google.com/github/BrilliantChard/Computer-Vision/blob/main/Deep_CNN_Classifier_with_any_Image.ipynb\" target=\"_parent\"><img src=\"https://colab.research.google.com/assets/colab-badge.svg\" alt=\"Open In Colab\"/></a>"
      ]
    },
    {
      "cell_type": "markdown",
      "source": [
        "### Installing Dependencies"
      ],
      "metadata": {
        "id": "0ufXpORUEeF2"
      }
    },
    {
      "cell_type": "code",
      "source": [
        "import tensorflow as tf\n",
        "import os"
      ],
      "metadata": {
        "id": "49UIuxRPCubj"
      },
      "execution_count": 6,
      "outputs": []
    },
    {
      "cell_type": "code",
      "source": [
        "gpus = tf.config.experimental.list_physical_devices('GPU')"
      ],
      "metadata": {
        "id": "r1mChleLDISU"
      },
      "execution_count": 7,
      "outputs": []
    },
    {
      "cell_type": "code",
      "source": [
        "for gpu in gpus:\n",
        "  tf.config.experimental.set_memory_growth(gpu, True)"
      ],
      "metadata": {
        "id": "m3ROKK0yD3Le"
      },
      "execution_count": 8,
      "outputs": []
    },
    {
      "cell_type": "code",
      "source": [
        "import cv2\n",
        "import imghdr"
      ],
      "metadata": {
        "id": "Rjrvs95SD4KQ",
        "outputId": "afdc1e86-31fb-46e4-95e5-ad28b9ecbfaf",
        "colab": {
          "base_uri": "https://localhost:8080/"
        }
      },
      "execution_count": 9,
      "outputs": [
        {
          "output_type": "stream",
          "name": "stderr",
          "text": [
            "/tmp/ipython-input-9-4232469594.py:2: DeprecationWarning: 'imghdr' is deprecated and slated for removal in Python 3.13\n",
            "  import imghdr\n"
          ]
        }
      ]
    },
    {
      "cell_type": "code",
      "source": [
        "from google.colab import drive\n",
        "drive.mount('/content/drive')"
      ],
      "metadata": {
        "id": "G_vHlctYJ758",
        "outputId": "c117e8fe-15d3-4003-ecf5-8f81b9ec918c",
        "colab": {
          "base_uri": "https://localhost:8080/"
        }
      },
      "execution_count": 10,
      "outputs": [
        {
          "output_type": "stream",
          "name": "stdout",
          "text": [
            "Mounted at /content/drive\n"
          ]
        }
      ]
    },
    {
      "cell_type": "code",
      "source": [
        "data_dir = '/content/drive/MyDrive/Colab Notebooks/Data'"
      ],
      "metadata": {
        "id": "0KloV8esJK9D"
      },
      "execution_count": 12,
      "outputs": []
    },
    {
      "cell_type": "code",
      "source": [
        "data_dir"
      ],
      "metadata": {
        "id": "Qgx9oIw2KRyM",
        "outputId": "824b6b2f-778a-4884-dd2c-6f4bb52b70ff",
        "colab": {
          "base_uri": "https://localhost:8080/",
          "height": 35
        }
      },
      "execution_count": 13,
      "outputs": [
        {
          "output_type": "execute_result",
          "data": {
            "text/plain": [
              "'/content/drive/MyDrive/Colab Notebooks/Data'"
            ],
            "application/vnd.google.colaboratory.intrinsic+json": {
              "type": "string"
            }
          },
          "metadata": {},
          "execution_count": 13
        }
      ]
    },
    {
      "cell_type": "code",
      "source": [
        "image_extensions = ['jpeg', 'jpg', 'bmp', 'png']\n",
        "image_extensions"
      ],
      "metadata": {
        "id": "FA8z_D8VKYBF",
        "outputId": "cce2d2f3-b136-44f6-beb6-26a27c938dd5",
        "colab": {
          "base_uri": "https://localhost:8080/"
        }
      },
      "execution_count": 15,
      "outputs": [
        {
          "output_type": "execute_result",
          "data": {
            "text/plain": [
              "['jpeg', 'jpg', 'bmp', 'png']"
            ]
          },
          "metadata": {},
          "execution_count": 15
        }
      ]
    },
    {
      "cell_type": "code",
      "source": [
        "os.listdir(data_dir)"
      ],
      "metadata": {
        "id": "1BhhOuHjKzEj",
        "outputId": "b17a9db7-1840-47b6-8a35-bbc51c2e3b25",
        "colab": {
          "base_uri": "https://localhost:8080/"
        }
      },
      "execution_count": 20,
      "outputs": [
        {
          "output_type": "execute_result",
          "data": {
            "text/plain": [
              "['sad people', 'happy people']"
            ]
          },
          "metadata": {},
          "execution_count": 20
        }
      ]
    },
    {
      "cell_type": "code",
      "source": [
        "for image_class in os.listdir(data_dir):\n",
        "  print(image_class)"
      ],
      "metadata": {
        "id": "ZF0EZWfpKjzn",
        "outputId": "2520fedb-7d87-4ec5-cc7d-2f37a3970b14",
        "colab": {
          "base_uri": "https://localhost:8080/"
        }
      },
      "execution_count": 21,
      "outputs": [
        {
          "output_type": "stream",
          "name": "stdout",
          "text": [
            "sad people\n",
            "happy people\n"
          ]
        }
      ]
    },
    {
      "cell_type": "code",
      "source": [
        "for image_class in os.listdir(data_dir):\n",
        "  for image in os.listdir(os.path.join(data_dir, image_class)):\n",
        "    image_path = os.path.join(data_dir, image_class, image)\n",
        "    try:\n",
        "        img = cv2.imread(image_path)\n",
        "        tip = imghdr.what(image_path)\n",
        "        if tip not in image_extensions:\n",
        "          print(\"Image not in extension list {}\".format(image_path))\n",
        "          os.remove(image_path)\n",
        "    except Exception as e:\n",
        "      print('Issue with image {}'.format(image_path))\n"
      ],
      "metadata": {
        "id": "NYHwBKa8NXtT",
        "outputId": "22a21c7b-9a1d-44e0-f076-1e453494df14",
        "colab": {
          "base_uri": "https://localhost:8080/"
        }
      },
      "execution_count": 24,
      "outputs": [
        {
          "output_type": "stream",
          "name": "stdout",
          "text": [
            "Image not in extension list /content/drive/MyDrive/Colab Notebooks/Data/sad people/depositphotos_9980774-stock-photo-sad-lonely-pensive-old-sen.jpg\n",
            "Image not in extension list /content/drive/MyDrive/Colab Notebooks/Data/sad people/depositphotos_21813871-stock-photo-sad-and-upset-woman-deep.jpg\n",
            "Image not in extension list /content/drive/MyDrive/Colab Notebooks/Data/sad people/depositphotos_4584891-stock-photo-sad-man-in-a-empty.jpg\n",
            "Image not in extension list /content/drive/MyDrive/Colab Notebooks/Data/sad people/depositphotos_659537732-stock-photo-bored-man-lethargy-apath.jpg\n",
            "Image not in extension list /content/drive/MyDrive/Colab Notebooks/Data/sad people/depositphotos_38631799-stock-photo-teenager-depressed-sittin.jpg\n",
            "Image not in extension list /content/drive/MyDrive/Colab Notebooks/Data/sad people/depositphotos_263779662-stock-photo-handsome-depressed-man-s.jpg\n",
            "Image not in extension list /content/drive/MyDrive/Colab Notebooks/Data/sad people/favicon-acxxetWH.ico\n",
            "Image not in extension list /content/drive/MyDrive/Colab Notebooks/Data/sad people/ways-to-help-older-adults-with-depression-seek-help-1440x810.jpg\n",
            "Image not in extension list /content/drive/MyDrive/Colab Notebooks/Data/sad people/stock-photo-melancholy-and-sad-young-woman-at-the-window-in-.webp\n",
            "Image not in extension list /content/drive/MyDrive/Colab Notebooks/Data/sad people/stock-photo-man-sitting-couch-crying-home-grieving-disorder-.webp\n",
            "Image not in extension list /content/drive/MyDrive/Colab Notebooks/Data/sad people/stock-photo-stressed-unhappy-young-man-domestic-quarrel-wife.webp\n",
            "Image not in extension list /content/drive/MyDrive/Colab Notebooks/Data/sad people/stock-photo-young-depressed-man-pain-bed.webp\n",
            "Image not in extension list /content/drive/MyDrive/Colab Notebooks/Data/sad people/stock-photo-frustrated-young-woman-depression-sitting-couch-.webp\n",
            "Image not in extension list /content/drive/MyDrive/Colab Notebooks/Data/sad people/stock-photo-depressed-young-man-sitting-kitchen-laptop-looki.webp\n",
            "Image not in extension list /content/drive/MyDrive/Colab Notebooks/Data/sad people/stock-photo-sad-woman-sitting-scattered-clothes-suitcase-bre.webp\n",
            "Image not in extension list /content/drive/MyDrive/Colab Notebooks/Data/sad people/stock-photo-lonely-senior-woman-portrait-sad-depressedemotio.webp\n",
            "Image not in extension list /content/drive/MyDrive/Colab Notebooks/Data/sad people/stock-photo-sad-little-girl-crying-face-bokeh-background-vin.webp\n",
            "Image not in extension list /content/drive/MyDrive/Colab Notebooks/Data/sad people/stock-photo-depressed-teenage-girl.webp\n",
            "Image not in extension list /content/drive/MyDrive/Colab Notebooks/Data/sad people/stock-photo-depressed-woman-sitting-on-a-chair-in-dark-room-.webp\n",
            "Image not in extension list /content/drive/MyDrive/Colab Notebooks/Data/sad people/stock-photo-depressed-young-asian-girl-sitting-on-floor-at-h.webp\n",
            "Image not in extension list /content/drive/MyDrive/Colab Notebooks/Data/happy people/depositphotos_6361775-stock-photo-happy-smiling-diverse-mixe.jpg\n",
            "Image not in extension list /content/drive/MyDrive/Colab Notebooks/Data/happy people/favicon-acxxetWH.ico\n",
            "Image not in extension list /content/drive/MyDrive/Colab Notebooks/Data/happy people/depositphotos_158688566-stock-photo-happy-family-jumping-on-.jpg\n"
          ]
        }
      ]
    },
    {
      "cell_type": "code",
      "source": [],
      "metadata": {
        "id": "6r4PvEflPXmb"
      },
      "execution_count": null,
      "outputs": []
    }
  ]
}